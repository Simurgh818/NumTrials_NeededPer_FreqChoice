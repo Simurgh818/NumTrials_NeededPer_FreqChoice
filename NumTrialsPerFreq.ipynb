{
 "cells": [
  {
   "cell_type": "markdown",
   "id": "bfeb7152-57c1-40df-8468-1d80a4110aa9",
   "metadata": {},
   "source": [
    "# Testing the number of trials needed per frequecy choice during frequency sweep.\n",
    "\n",
    "### Sina Dabiri\n",
    "### sdabiri@emory.edu"
   ]
  },
  {
   "cell_type": "code",
   "execution_count": 35,
   "id": "d8df4f5a-91db-4881-bbf8-9a25fa2348ef",
   "metadata": {},
   "outputs": [],
   "source": [
    "import numpy as np\n",
    "import matplotlib\n",
    "from matplotlib import pyplot as plt\n",
    "import seaborn as sns\n",
    "import pandas as pd\n",
    "import os\n",
    "from scipy.io import loadmat"
   ]
  },
  {
   "cell_type": "code",
   "execution_count": 40,
   "id": "eada965e-b0cb-493b-acaa-8b4ea9d741bc",
   "metadata": {},
   "outputs": [],
   "source": [
    "path=os.path.abspath('Y:/Sina/stg-analysis/num_trial_per_freq_choice/')\n",
    "m = np.shape(os.listdir(path))\n",
    "RF_path=[\"\"]*13\n",
    "i=0\n",
    "for idx, f in enumerate(os.listdir(path)):\n",
    "    if f.endswith('.mat'):\n",
    "        RF_path[i] = os.path.abspath(path+'\\\\'+f)\n",
    "        i=i+1"
   ]
  },
  {
   "cell_type": "code",
   "execution_count": 41,
   "id": "fb2ff59e-b73d-499a-962b-a9245e7d6a99",
   "metadata": {},
   "outputs": [
    {
     "name": "stdout",
     "output_type": "stream",
     "text": [
      "Y:\\Sina\\stg-analysis\\num_trial_per_freq_choice\n",
      "(27,)\n"
     ]
    }
   ],
   "source": [
    "path=os.path.abspath('Y:/Sina/stg-analysis/num_trial_per_freq_choice/')\n",
    "print(path)\n",
    "m = np.shape(os.listdir(path))\n",
    "print(m)"
   ]
  },
  {
   "cell_type": "code",
   "execution_count": 42,
   "id": "ff73393c-1835-45eb-9004-359659a55aee",
   "metadata": {},
   "outputs": [
    {
     "data": {
      "text/plain": [
       "['Y:\\\\Sina\\\\stg-analysis\\\\num_trial_per_freq_choice\\\\FL000_ses-01_LFP_pvalue_trial_table_refLaplacian.mat',\n",
       " 'Y:\\\\Sina\\\\stg-analysis\\\\num_trial_per_freq_choice\\\\FL001_ses-01_LFP_pvalue_trial_table_refLaplacian.mat',\n",
       " 'Y:\\\\Sina\\\\stg-analysis\\\\num_trial_per_freq_choice\\\\FL002_ses-01_LFP_pvalue_trial_table_refLaplacian.mat',\n",
       " 'Y:\\\\Sina\\\\stg-analysis\\\\num_trial_per_freq_choice\\\\FL003_ses-01_LFP_pvalue_trial_table_refLaplacian.mat',\n",
       " 'Y:\\\\Sina\\\\stg-analysis\\\\num_trial_per_freq_choice\\\\FL005_ses-01_LFP_pvalue_trial_table_refLaplacian.mat',\n",
       " 'Y:\\\\Sina\\\\stg-analysis\\\\num_trial_per_freq_choice\\\\FL007_ses-01_LFP_pvalue_trial_table_refLaplacian.mat',\n",
       " 'Y:\\\\Sina\\\\stg-analysis\\\\num_trial_per_freq_choice\\\\FL009_ses-01_LFP_pvalue_trial_table_refLaplacian.mat',\n",
       " 'Y:\\\\Sina\\\\stg-analysis\\\\num_trial_per_freq_choice\\\\FL010_ses-01_LFP_pvalue_trial_table_refLaplacian.mat',\n",
       " 'Y:\\\\Sina\\\\stg-analysis\\\\num_trial_per_freq_choice\\\\FL011_ses-01_LFP_pvalue_trial_table_refLaplacian.mat',\n",
       " 'Y:\\\\Sina\\\\stg-analysis\\\\num_trial_per_freq_choice\\\\FL012_ses-01_LFP_pvalue_trial_table_refLaplacian.mat',\n",
       " 'Y:\\\\Sina\\\\stg-analysis\\\\num_trial_per_freq_choice\\\\FL014_ses-01_LFP_pvalue_trial_table_refLaplacian.mat',\n",
       " 'Y:\\\\Sina\\\\stg-analysis\\\\num_trial_per_freq_choice\\\\FL014_ses-02_LFP_pvalue_trial_table_refLaplacian.mat',\n",
       " 'Y:\\\\Sina\\\\stg-analysis\\\\num_trial_per_freq_choice\\\\FL016_ses-01_LFP_pvalue_trial_table_refLaplacian.mat']"
      ]
     },
     "execution_count": 42,
     "metadata": {},
     "output_type": "execute_result"
    }
   ],
   "source": [
    "RF_path"
   ]
  },
  {
   "cell_type": "code",
   "execution_count": null,
   "id": "946e3ef6-c094-4bed-9306-8dbdb035055b",
   "metadata": {},
   "outputs": [],
   "source": []
  }
 ],
 "metadata": {
  "kernelspec": {
   "display_name": "Python 3 (ipykernel)",
   "language": "python",
   "name": "python3"
  },
  "language_info": {
   "codemirror_mode": {
    "name": "ipython",
    "version": 3
   },
   "file_extension": ".py",
   "mimetype": "text/x-python",
   "name": "python",
   "nbconvert_exporter": "python",
   "pygments_lexer": "ipython3",
   "version": "3.9.16"
  }
 },
 "nbformat": 4,
 "nbformat_minor": 5
}
